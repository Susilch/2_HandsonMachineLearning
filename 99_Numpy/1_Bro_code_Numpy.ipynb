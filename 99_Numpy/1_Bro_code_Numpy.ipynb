{
 "cells": [
  {
   "cell_type": "markdown",
   "id": "52b01387",
   "metadata": {},
   "source": [
    "Python is slow so basically Numpy is used as replacement 10X faster than python\n",
    "Plus vectorize operation rather than python\n",
    "speed + features is offered "
   ]
  },
  {
   "cell_type": "code",
   "execution_count": 4,
   "id": "1e46779b",
   "metadata": {},
   "outputs": [],
   "source": [
    "import numpy as np "
   ]
  },
  {
   "cell_type": "code",
   "execution_count": 5,
   "id": "e7698096",
   "metadata": {},
   "outputs": [
    {
     "name": "stdout",
     "output_type": "stream",
     "text": [
      "2.3.4\n"
     ]
    }
   ],
   "source": [
    "print(np.__version__)"
   ]
  },
  {
   "cell_type": "code",
   "execution_count": 7,
   "id": "c1bb40b7",
   "metadata": {},
   "outputs": [
    {
     "name": "stdout",
     "output_type": "stream",
     "text": [
      "[1, 2, 3, 1, 2, 3]\n"
     ]
    }
   ],
   "source": [
    "my_list = [1,2,3]\n",
    "my_list = my_list  * 2\n",
    "print(my_list)"
   ]
  },
  {
   "cell_type": "code",
   "execution_count": 11,
   "id": "5bf71e56",
   "metadata": {},
   "outputs": [
    {
     "name": "stdout",
     "output_type": "stream",
     "text": [
      "[2 4 6]\n",
      "<class 'numpy.ndarray'>\n"
     ]
    }
   ],
   "source": [
    "array = np.array([1,2,3])\n",
    "array = array *2\n",
    "print(array)\n",
    "print(type(array))\n"
   ]
  },
  {
   "cell_type": "code",
   "execution_count": 13,
   "id": "1c88c044",
   "metadata": {},
   "outputs": [
    {
     "name": "stdout",
     "output_type": "stream",
     "text": [
      "0\n"
     ]
    }
   ],
   "source": [
    "m_array = np.array('A')\n",
    "print(m_array.ndim)"
   ]
  },
  {
   "cell_type": "code",
   "execution_count": null,
   "id": "19726e39",
   "metadata": {},
   "outputs": [
    {
     "ename": "ValueError",
     "evalue": "setting an array element with a sequence. The requested array has an inhomogeneous shape after 1 dimensions. The detected shape was (2,) + inhomogeneous part.",
     "output_type": "error",
     "traceback": [
      "\u001b[31m---------------------------------------------------------------------------\u001b[39m",
      "\u001b[31mValueError\u001b[39m                                Traceback (most recent call last)",
      "\u001b[36mCell\u001b[39m\u001b[36m \u001b[39m\u001b[32mIn[15]\u001b[39m\u001b[32m, line 1\u001b[39m\n\u001b[32m----> \u001b[39m\u001b[32m1\u001b[39m m_array = \u001b[43mnp\u001b[49m\u001b[43m.\u001b[49m\u001b[43marray\u001b[49m\u001b[43m(\u001b[49m\u001b[43m[\u001b[49m\u001b[43m[\u001b[49m\u001b[33;43m'\u001b[39;49m\u001b[33;43mA\u001b[39;49m\u001b[33;43m'\u001b[39;49m\u001b[43m,\u001b[49m\u001b[33;43m'\u001b[39;49m\u001b[33;43mB\u001b[39;49m\u001b[33;43m'\u001b[39;49m\u001b[43m,\u001b[49m\u001b[33;43m'\u001b[39;49m\u001b[33;43mC\u001b[39;49m\u001b[33;43m'\u001b[39;49m\u001b[43m]\u001b[49m\u001b[43m,\u001b[49m\u001b[43m \u001b[49m\u001b[43m[\u001b[49m\u001b[33;43m'\u001b[39;49m\u001b[33;43mD\u001b[39;49m\u001b[33;43m'\u001b[39;49m\u001b[43m,\u001b[49m\u001b[33;43m'\u001b[39;49m\u001b[33;43mE\u001b[39;49m\u001b[33;43m'\u001b[39;49m\u001b[43m,\u001b[49m\u001b[33;43m'\u001b[39;49m\u001b[33;43mF\u001b[39;49m\u001b[33;43m'\u001b[39;49m\u001b[43m,\u001b[49m\u001b[33;43m'\u001b[39;49m\u001b[33;43mG\u001b[39;49m\u001b[33;43m'\u001b[39;49m\u001b[43m]\u001b[49m\u001b[43m]\u001b[49m\u001b[43m)\u001b[49m\n\u001b[32m      2\u001b[39m \u001b[38;5;28mprint\u001b[39m(m_array.ndim)\n",
      "\u001b[31mValueError\u001b[39m: setting an array element with a sequence. The requested array has an inhomogeneous shape after 1 dimensions. The detected shape was (2,) + inhomogeneous part."
     ]
    }
   ],
   "source": [
    "m_array = np.array([['A','B','C'], ['D','E','F','G']])\n",
    "print(m_array.ndim)"
   ]
  },
  {
   "cell_type": "markdown",
   "id": "03807f08",
   "metadata": {},
   "source": [
    "for the numpy array to run it has be homogenous "
   ]
  },
  {
   "cell_type": "code",
   "execution_count": null,
   "id": "935b427b",
   "metadata": {},
   "outputs": [
    {
     "name": "stdout",
     "output_type": "stream",
     "text": [
      "3\n",
      "(5, 3, 4)\n",
      "1\n",
      "1\n"
     ]
    }
   ],
   "source": [
    "n_array = np.array([[[1,2,3,4],[4,5,6,7],[7,8,9,'']],\n",
    "                    [[1,2,3,4],[4,5,6,7],[7,8,9,'']],\n",
    "                    [[1,2,3,4],[4,5,6,7],[7,8,9,'']],\n",
    "                    [[1,2,3,4],[4,5,6,7],[7,8,9,'']],\n",
    "                    [[1,2,3,4],[4,5,6,7],[7,8,9,'']]])\n",
    "print(n_array.ndim)\n",
    "print(n_array.shape)\n",
    "print(n_array[0][0][0]) #This is called chain indexing\n",
    "print(n_array[0,0,0]) # This is multidimensional indexing\n"
   ]
  },
  {
   "cell_type": "code",
   "execution_count": null,
   "id": "ecc4dec6",
   "metadata": {},
   "outputs": [
    {
     "name": "stdout",
     "output_type": "stream",
     "text": [
      "(4, 4)\n"
     ]
    }
   ],
   "source": [
    "s_array = np.array([[1, 2, 3, 4],\n",
    "                     [5, 6, 7, 8],\n",
    "                       [9, 10, 11, 12],\n",
    "                         [13, 14 , 15, 16]])\n",
    "print(s_array.shape)\n",
    "# slicing example \n",
    "# array[start:end:step]"
   ]
  },
  {
   "cell_type": "code",
   "execution_count": 23,
   "id": "82e3ac45",
   "metadata": {},
   "outputs": [
    {
     "name": "stdout",
     "output_type": "stream",
     "text": [
      "[1 2 3 4]\n",
      "[5 6 7 8]\n",
      "[13 14 15 16]\n",
      "[ 9 10 11 12]\n"
     ]
    }
   ],
   "source": [
    "print(s_array[0])\n",
    "print(s_array[1])\n",
    "print(s_array[3])\n",
    "print(s_array[-2])"
   ]
  },
  {
   "cell_type": "code",
   "execution_count": 26,
   "id": "febb8bd8",
   "metadata": {},
   "outputs": [
    {
     "name": "stdout",
     "output_type": "stream",
     "text": [
      "[[ 1  2  3  4]\n",
      " [ 5  6  7  8]\n",
      " [ 9 10 11 12]]\n",
      "[[ 1  2  3  4]\n",
      " [ 9 10 11 12]]\n",
      "[[13 14 15 16]\n",
      " [ 9 10 11 12]\n",
      " [ 5  6  7  8]\n",
      " [ 1  2  3  4]]\n"
     ]
    }
   ],
   "source": [
    "print(s_array[0:3]) # the ending index is exclusive\n",
    "print(s_array[0:4:2])\n",
    "print(s_array[::-1]) # the step can also be negative but output will be reversed"
   ]
  },
  {
   "cell_type": "code",
   "execution_count": null,
   "id": "4eef4ce1",
   "metadata": {},
   "outputs": [
    {
     "name": "stdout",
     "output_type": "stream",
     "text": [
      "[ 2  6 10 14]\n",
      "[[ 1  2  3]\n",
      " [ 5  6  7]\n",
      " [ 9 10 11]\n",
      " [13 14 15]]\n",
      "[[ 2  3  4]\n",
      " [ 6  7  8]\n",
      " [10 11 12]\n",
      " [14 15 16]]\n"
     ]
    }
   ],
   "source": [
    "print(s_array[:, 1]) # for 2d it will be [row, column]\n",
    "print(s_array[:, 0: 3]) \n",
    "print(s_array[:, 1:]) \n"
   ]
  },
  {
   "cell_type": "code",
   "execution_count": 30,
   "id": "2a9c87b6",
   "metadata": {},
   "outputs": [
    {
     "name": "stdout",
     "output_type": "stream",
     "text": [
      "[[1 2]\n",
      " [5 6]]\n"
     ]
    }
   ],
   "source": [
    "print(s_array[0:2, 0:2]) # like selecting a quadrant specifies the row and the colund"
   ]
  },
  {
   "cell_type": "code",
   "execution_count": 32,
   "id": "2766254e",
   "metadata": {},
   "outputs": [
    {
     "name": "stdout",
     "output_type": "stream",
     "text": [
      "[1.         1.41421356 1.73205081]\n"
     ]
    }
   ],
   "source": [
    "# vectorized math funcs \n",
    "array = np.array([1, 2, 3])\n",
    "print(np.sqrt(array))\n",
    "#different built in math function to apply to the whole arrays"
   ]
  },
  {
   "cell_type": "code",
   "execution_count": 34,
   "id": "1854f31d",
   "metadata": {},
   "outputs": [
    {
     "name": "stdout",
     "output_type": "stream",
     "text": [
      "3.141592653589793\n"
     ]
    }
   ],
   "source": [
    "print(np.pi) # with built in constants too"
   ]
  },
  {
   "cell_type": "code",
   "execution_count": 35,
   "id": "4c89aac5",
   "metadata": {},
   "outputs": [
    {
     "name": "stdout",
     "output_type": "stream",
     "text": [
      "[ 3.14159265 12.56637061 28.27433388]\n"
     ]
    }
   ],
   "source": [
    "radii = np.array([1, 2, 3])\n",
    "print(np.pi * radii ** 2)"
   ]
  },
  {
   "cell_type": "code",
   "execution_count": 36,
   "id": "1dcf829e",
   "metadata": {},
   "outputs": [
    {
     "name": "stdout",
     "output_type": "stream",
     "text": [
      "[5 7 9]\n",
      "[  1  32 729]\n"
     ]
    }
   ],
   "source": [
    "# element-wise arithmetic\n",
    "array1 = np.array([1, 2, 3])\n",
    "array2 = np.array([4, 5, 6])\n",
    "\n",
    "print(array1 + array2)\n",
    "print(array1 ** array2)"
   ]
  },
  {
   "cell_type": "code",
   "execution_count": 39,
   "id": "1a8286be",
   "metadata": {},
   "outputs": [
    {
     "name": "stdout",
     "output_type": "stream",
     "text": [
      "[False False  True False False False]\n",
      "[ True False  True  True  True  True]\n",
      "[ 91   0 100  73  82  64]\n"
     ]
    }
   ],
   "source": [
    "#comparison operators\n",
    "scores = np.array([91, 55, 100, 73, 82, 64])\n",
    "print(scores == 100)\n",
    "print(scores >= 60) # can create a boolean array \n",
    "scores[scores < 60]  = 0\n",
    "print(scores)"
   ]
  },
  {
   "cell_type": "markdown",
   "id": "ca1942fa",
   "metadata": {},
   "source": [
    "Broadcasting allows Numpy to perform operations on arrays with different shapes by virtaully expanding dimensions\n",
    "so they match the larger array's shape.\n",
    "\n",
    "Possible only when\n",
    "1. The dimensions have the same size.\n",
    "2. One of the dimensions has a size of 1. \n",
    "basically fancy term for matrix multiplication"
   ]
  },
  {
   "cell_type": "code",
   "execution_count": 41,
   "id": "f796bb85",
   "metadata": {},
   "outputs": [
    {
     "name": "stdout",
     "output_type": "stream",
     "text": [
      "(1, 4)\n",
      "(4, 1)\n",
      "[[ 1  2  3  4]\n",
      " [ 2  4  6  8]\n",
      " [ 3  6  9 12]\n",
      " [ 4  8 12 16]]\n"
     ]
    }
   ],
   "source": [
    "#broadcasting\n",
    "import numpy as np\n",
    "array1 = np.array([[1, 2, 3, 4]])\n",
    "array2 = np.array([[1], [2], [3], [4]])\n",
    "\n",
    "print(array1.shape)\n",
    "print(array2.shape)\n",
    "\n",
    "print(array1 * array2)\n"
   ]
  },
  {
   "cell_type": "markdown",
   "id": "5efa3600",
   "metadata": {},
   "source": [
    "Aggregate functions = summarize data and typically return a single valueb"
   ]
  },
  {
   "cell_type": "code",
   "execution_count": 42,
   "id": "721f2ab2",
   "metadata": {},
   "outputs": [
    {
     "name": "stdout",
     "output_type": "stream",
     "text": [
      "55\n",
      "5.5\n",
      "2.8722813232690143\n"
     ]
    }
   ],
   "source": [
    "array = np.array([[1, 2, 3, 4, 5],[6, 7, 8, 9, 10]])\n",
    "print(np.sum(array))\n",
    "print(np.mean(array))\n",
    "print(np.std(array))"
   ]
  },
  {
   "cell_type": "code",
   "execution_count": 43,
   "id": "079fec08",
   "metadata": {},
   "outputs": [
    {
     "name": "stdout",
     "output_type": "stream",
     "text": [
      "[ 7  9 11 13 15]\n"
     ]
    }
   ],
   "source": [
    "print(np.sum(array, axis=0))"
   ]
  },
  {
   "cell_type": "code",
   "execution_count": 44,
   "id": "1ce7c725",
   "metadata": {},
   "outputs": [
    {
     "name": "stdout",
     "output_type": "stream",
     "text": [
      "[15 40]\n"
     ]
    }
   ],
   "source": [
    "print(np.sum(array, axis=1))"
   ]
  },
  {
   "cell_type": "code",
   "execution_count": 48,
   "id": "c2a3372c",
   "metadata": {},
   "outputs": [
    {
     "name": "stdout",
     "output_type": "stream",
     "text": [
      "[21 19 20 30 18 39 22 18 19 20 21]\n",
      "[12 16 15]\n"
     ]
    }
   ],
   "source": [
    "#filtering = Process of selecting elements from an array that match a given condition\n",
    "\n",
    "ages = np.array([[21, 12, 19, 20, 16, 30, 18, 65],\n",
    "                  [39, 22, 15, 99, 18, 19, 20, 21]])\n",
    "\n",
    "teenagers = ages[ages < 18] # boolean indexing \n",
    "adults = ages[(ages >=18) & (ages < 65)]\n",
    "print(adults)\n",
    "print(teenagers)"
   ]
  },
  {
   "cell_type": "code",
   "execution_count": null,
   "id": "ed1f6dee",
   "metadata": {},
   "outputs": [
    {
     "name": "stdout",
     "output_type": "stream",
     "text": [
      "[[21  0 19 20  0 30 18 65]\n",
      " [39 22  0 99 18 19 20 21]]\n"
     ]
    }
   ],
   "source": [
    "# where function to preserve the original shape but a lot slower than boolean indexing\n",
    "adults2= np.where(ages >= 18, ages, 0)\n",
    "print(adults2)"
   ]
  },
  {
   "cell_type": "code",
   "execution_count": 51,
   "id": "2ae8949b",
   "metadata": {},
   "outputs": [
    {
     "name": "stdout",
     "output_type": "stream",
     "text": [
      "[[48 52]\n",
      " [76 96]\n",
      " [ 4 15]]\n"
     ]
    }
   ],
   "source": [
    "#numpy to generate random numbers\n",
    "\n",
    "rng = np.random.default_rng(seed=1) # seed to reproduce the same numbers\n",
    "\n",
    "print(rng.integers(low=1, high=101, size=(3,2)))"
   ]
  },
  {
   "cell_type": "code",
   "execution_count": 52,
   "id": "58a736f4",
   "metadata": {},
   "outputs": [
    {
     "name": "stdout",
     "output_type": "stream",
     "text": [
      "-0.9665491145967497\n"
     ]
    }
   ],
   "source": [
    "#floating point number\n",
    "print(np.random.uniform(low=-1, high=1))"
   ]
  },
  {
   "cell_type": "markdown",
   "id": "e75bbbe9",
   "metadata": {},
   "source": [
    "other functions of random.default_rng() are .choice where an element from array will be given at random"
   ]
  },
  {
   "cell_type": "code",
   "execution_count": null,
   "id": "42b0b71d",
   "metadata": {},
   "outputs": [],
   "source": []
  }
 ],
 "metadata": {
  "kernelspec": {
   "display_name": ".venv",
   "language": "python",
   "name": "python3"
  },
  "language_info": {
   "codemirror_mode": {
    "name": "ipython",
    "version": 3
   },
   "file_extension": ".py",
   "mimetype": "text/x-python",
   "name": "python",
   "nbconvert_exporter": "python",
   "pygments_lexer": "ipython3",
   "version": "3.12.1"
  }
 },
 "nbformat": 4,
 "nbformat_minor": 5
}
