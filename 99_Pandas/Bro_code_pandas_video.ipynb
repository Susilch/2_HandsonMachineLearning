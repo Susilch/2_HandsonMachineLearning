{
 "cells": [
  {
   "cell_type": "markdown",
   "id": "504de683",
   "metadata": {},
   "source": [
    "Pandas = Panel data \n",
    "Work with dataframe comparable to microsoft excel\n",
    "\n",
    "Series = A pandas 1-Dimensional labeled array that can hold any data type \n"
   ]
  },
  {
   "cell_type": "code",
   "execution_count": 1,
   "id": "293b7314",
   "metadata": {},
   "outputs": [
    {
     "name": "stdout",
     "output_type": "stream",
     "text": [
      "2.3.3\n"
     ]
    }
   ],
   "source": [
    "import pandas as pd\n",
    "print(pd.__version__)"
   ]
  },
  {
   "cell_type": "code",
   "execution_count": null,
   "id": "8530c8d5",
   "metadata": {},
   "outputs": [
    {
     "name": "stdout",
     "output_type": "stream",
     "text": [
      "0    100.1\n",
      "1    102.2\n",
      "2    104.4\n",
      "dtype: float64\n"
     ]
    }
   ],
   "source": [
    "data = [100.1, 102.2, 104.4] # python list\n",
    "series = pd.Series(data) #this series is a constructer rather than a function\n",
    "\n",
    "print(series) \n",
    "# data type will change according to the data int float, object or even boolean"
   ]
  },
  {
   "cell_type": "code",
   "execution_count": 4,
   "id": "81b2c3e6",
   "metadata": {},
   "outputs": [
    {
     "name": "stdout",
     "output_type": "stream",
     "text": [
      "Apartment #1    100.1\n",
      "Apartment #2    102.2\n",
      "Apartment #3    104.4\n",
      "dtype: float64\n"
     ]
    }
   ],
   "source": [
    "series1 = pd.Series(data , index=[\"Apartment #1\", \"Apartment #2\", \"Apartment #3\"])\n",
    "print(series1)"
   ]
  },
  {
   "cell_type": "code",
   "execution_count": null,
   "id": "dcf547f0",
   "metadata": {},
   "outputs": [
    {
     "name": "stdout",
     "output_type": "stream",
     "text": [
      "100.1\n",
      "Apartment #1    100.1\n",
      "Apartment #2    102.2\n",
      "Apartment #3    200.0\n",
      "dtype: float64\n"
     ]
    }
   ],
   "source": [
    "print(series1.loc[\"Apartment #1\"])\n",
    "series1.loc[\"Apartment #3\"] = 200 # loc = location by label\n",
    "print(series1)"
   ]
  },
  {
   "cell_type": "code",
   "execution_count": null,
   "id": "ead672ba",
   "metadata": {},
   "outputs": [
    {
     "name": "stdout",
     "output_type": "stream",
     "text": [
      "200.0\n"
     ]
    }
   ],
   "source": [
    "print(series1.iloc[2]) # iloc access through integer location "
   ]
  },
  {
   "cell_type": "code",
   "execution_count": 10,
   "id": "92b7b819",
   "metadata": {},
   "outputs": [
    {
     "name": "stdout",
     "output_type": "stream",
     "text": [
      "3000\n"
     ]
    }
   ],
   "source": [
    "# Using python dictionary rather than list\n",
    "import pandas as pd\n",
    "\n",
    "calories = {\"Day 1\": 1750, \"Day 2\": 3000, \"Day 3\": 1200}\n",
    "\n",
    "series = pd.Series(calories)\n",
    "\n",
    "print(series.loc[\"Day 2\"])"
   ]
  },
  {
   "cell_type": "code",
   "execution_count": 11,
   "id": "d6954bf7",
   "metadata": {},
   "outputs": [
    {
     "name": "stdout",
     "output_type": "stream",
     "text": [
      "Day 1    1750\n",
      "Day 2    3000\n",
      "Day 3    1700\n",
      "dtype: int64\n"
     ]
    }
   ],
   "source": [
    "series.loc[\"Day 3\"] += 500\n",
    "print(series)"
   ]
  },
  {
   "cell_type": "code",
   "execution_count": 12,
   "id": "c9cc111e",
   "metadata": {},
   "outputs": [
    {
     "name": "stdout",
     "output_type": "stream",
     "text": [
      "Day 2    3000\n",
      "dtype: int64\n"
     ]
    }
   ],
   "source": [
    "print(series[series >= 2000])"
   ]
  },
  {
   "cell_type": "code",
   "execution_count": 16,
   "id": "f5c8f9f2",
   "metadata": {},
   "outputs": [
    {
     "name": "stdout",
     "output_type": "stream",
     "text": [
      "Name    Susil\n",
      "Age        22\n",
      "Name: Employee 2, dtype: object\n"
     ]
    }
   ],
   "source": [
    "#Data frames\n",
    "\n",
    "data = {\"Name\": [\"ALice\", \"Susil\", \"Ravin\"],\n",
    "        \"Age\": [23, 22, 25]\n",
    "    }\n",
    "\n",
    "df = pd.DataFrame(data, index=[\"Employee 1\", \"Employee 2\", \"Employee 3\"]) # here DataFrame is a constructor rather than a function so it will be capital\n",
    "\n",
    "print(df.loc[\"Employee 2\"])"
   ]
  },
  {
   "cell_type": "code",
   "execution_count": 18,
   "id": "daf4a090",
   "metadata": {},
   "outputs": [
    {
     "name": "stdout",
     "output_type": "stream",
     "text": [
      "             Name  Age      Job\n",
      "Employee 1  ALice   23  Manager\n",
      "Employee 2  Susil   22   Intern\n",
      "Employee 3  Ravin   25  Trainee\n"
     ]
    }
   ],
   "source": [
    "# Add a new column\n",
    "df[\"Job\"] = [\"Manager\", \"Intern\", \"Trainee\"]\n",
    "print(df)"
   ]
  },
  {
   "cell_type": "code",
   "execution_count": 20,
   "id": "4eaf7b94",
   "metadata": {},
   "outputs": [
    {
     "name": "stdout",
     "output_type": "stream",
     "text": [
      "             Name  Age      Job\n",
      "Employee 1  ALice   23  Manager\n",
      "Employee 2  Susil   22   Intern\n",
      "Employee 3  Ravin   25  Trainee\n",
      "0           Sandy   20      N/A\n",
      "0           Sandy   20      N/A\n"
     ]
    }
   ],
   "source": [
    "# Add a new row\n",
    "new_row = pd.DataFrame([{\"Name\": \"Sandy\", \"Age\": 20, \"Job\": \"N/A\"}])\n",
    "df = pd.concat([df, new_row])\n",
    "print(df)"
   ]
  },
  {
   "cell_type": "code",
   "execution_count": 53,
   "id": "22e3b8ce",
   "metadata": {},
   "outputs": [
    {
     "data": {
      "text/html": [
       "<div>\n",
       "<style scoped>\n",
       "    .dataframe tbody tr th:only-of-type {\n",
       "        vertical-align: middle;\n",
       "    }\n",
       "\n",
       "    .dataframe tbody tr th {\n",
       "        vertical-align: top;\n",
       "    }\n",
       "\n",
       "    .dataframe thead th {\n",
       "        text-align: right;\n",
       "    }\n",
       "</style>\n",
       "<table border=\"1\" class=\"dataframe\">\n",
       "  <thead>\n",
       "    <tr style=\"text-align: right;\">\n",
       "      <th></th>\n",
       "      <th>No</th>\n",
       "      <th>Name</th>\n",
       "      <th>Type1</th>\n",
       "      <th>Type2</th>\n",
       "      <th>Height</th>\n",
       "      <th>Weight</th>\n",
       "      <th>Legendary</th>\n",
       "    </tr>\n",
       "  </thead>\n",
       "  <tbody>\n",
       "    <tr>\n",
       "      <th>0</th>\n",
       "      <td>1</td>\n",
       "      <td>Bulbasaur</td>\n",
       "      <td>Grass</td>\n",
       "      <td>Poison</td>\n",
       "      <td>0.7</td>\n",
       "      <td>6.9</td>\n",
       "      <td>0</td>\n",
       "    </tr>\n",
       "    <tr>\n",
       "      <th>1</th>\n",
       "      <td>2</td>\n",
       "      <td>Ivysaur</td>\n",
       "      <td>Grass</td>\n",
       "      <td>Poison</td>\n",
       "      <td>1.0</td>\n",
       "      <td>13.0</td>\n",
       "      <td>0</td>\n",
       "    </tr>\n",
       "    <tr>\n",
       "      <th>2</th>\n",
       "      <td>3</td>\n",
       "      <td>Venusaur</td>\n",
       "      <td>Grass</td>\n",
       "      <td>Poison</td>\n",
       "      <td>2.0</td>\n",
       "      <td>100.0</td>\n",
       "      <td>0</td>\n",
       "    </tr>\n",
       "    <tr>\n",
       "      <th>3</th>\n",
       "      <td>4</td>\n",
       "      <td>Charmander</td>\n",
       "      <td>Fire</td>\n",
       "      <td>NaN</td>\n",
       "      <td>0.6</td>\n",
       "      <td>8.5</td>\n",
       "      <td>0</td>\n",
       "    </tr>\n",
       "    <tr>\n",
       "      <th>4</th>\n",
       "      <td>5</td>\n",
       "      <td>Charmeleon</td>\n",
       "      <td>Fire</td>\n",
       "      <td>NaN</td>\n",
       "      <td>1.1</td>\n",
       "      <td>19.0</td>\n",
       "      <td>0</td>\n",
       "    </tr>\n",
       "  </tbody>\n",
       "</table>\n",
       "</div>"
      ],
      "text/plain": [
       "   No        Name  Type1   Type2  Height  Weight  Legendary\n",
       "0   1   Bulbasaur  Grass  Poison     0.7     6.9          0\n",
       "1   2     Ivysaur  Grass  Poison     1.0    13.0          0\n",
       "2   3    Venusaur  Grass  Poison     2.0   100.0          0\n",
       "3   4  Charmander   Fire     NaN     0.6     8.5          0\n",
       "4   5  Charmeleon   Fire     NaN     1.1    19.0          0"
      ]
     },
     "execution_count": 53,
     "metadata": {},
     "output_type": "execute_result"
    }
   ],
   "source": [
    "# import files\n",
    "import pandas as pd\n",
    "\n",
    "df = pd.read_csv(\"data.csv\")\n",
    "df.head()\n"
   ]
  },
  {
   "cell_type": "code",
   "execution_count": 22,
   "id": "e0a6de1d",
   "metadata": {},
   "outputs": [
    {
     "name": "stdout",
     "output_type": "stream",
     "text": [
      "<class 'pandas.core.frame.DataFrame'>\n",
      "RangeIndex: 150 entries, 0 to 149\n",
      "Data columns (total 7 columns):\n",
      " #   Column     Non-Null Count  Dtype  \n",
      "---  ------     --------------  -----  \n",
      " 0   No         150 non-null    int64  \n",
      " 1   Name       150 non-null    object \n",
      " 2   Type1      150 non-null    object \n",
      " 3   Type2      67 non-null     object \n",
      " 4   Height     150 non-null    float64\n",
      " 5   Weight     150 non-null    float64\n",
      " 6   Legendary  150 non-null    int64  \n",
      "dtypes: float64(2), int64(2), object(3)\n",
      "memory usage: 8.3+ KB\n"
     ]
    }
   ],
   "source": [
    "df.info()"
   ]
  },
  {
   "cell_type": "code",
   "execution_count": null,
   "id": "e942038a",
   "metadata": {},
   "outputs": [],
   "source": [
    "print(df) # will print only the top 5 and low 5  \n",
    "print(df.to_string()) # to print file as it is "
   ]
  },
  {
   "cell_type": "markdown",
   "id": "36f065da",
   "metadata": {},
   "source": [
    "Selection Techniques"
   ]
  },
  {
   "cell_type": "code",
   "execution_count": 23,
   "id": "b9da3a6c",
   "metadata": {},
   "outputs": [
    {
     "name": "stdout",
     "output_type": "stream",
     "text": [
      "0       Bulbasaur\n",
      "1         Ivysaur\n",
      "2        Venusaur\n",
      "3      Charmander\n",
      "4      Charmeleon\n",
      "          ...    \n",
      "145       Moltres\n",
      "146       Dratini\n",
      "147     Dragonair\n",
      "148     Dragonite\n",
      "149        Mewtwo\n",
      "Name: Name, Length: 150, dtype: object\n"
     ]
    }
   ],
   "source": [
    "#Selection by column \n",
    "print(df[\"Name\"])"
   ]
  },
  {
   "cell_type": "code",
   "execution_count": 24,
   "id": "2d8cda41",
   "metadata": {},
   "outputs": [
    {
     "name": "stdout",
     "output_type": "stream",
     "text": [
      "             No    Type1   Type2  Height  Weight  Legendary\n",
      "Name                                                       \n",
      "Bulbasaur     1    Grass  Poison     0.7     6.9          0\n",
      "Ivysaur       2    Grass  Poison     1.0    13.0          0\n",
      "Venusaur      3    Grass  Poison     2.0   100.0          0\n",
      "Charmander    4     Fire     NaN     0.6     8.5          0\n",
      "Charmeleon    5     Fire     NaN     1.1    19.0          0\n",
      "...         ...      ...     ...     ...     ...        ...\n",
      "Moltres     146     Fire  Flying     2.0    60.0          1\n",
      "Dratini     147   Dragon     NaN     1.8     3.3          0\n",
      "Dragonair   148   Dragon     NaN     4.0    16.5          0\n",
      "Dragonite   149   Dragon  Flying     2.2   210.0          0\n",
      "Mewtwo      150  Psychic     NaN     2.0   122.0          1\n",
      "\n",
      "[150 rows x 6 columns]\n"
     ]
    }
   ],
   "source": [
    "#selection by rows\n",
    "df = pd.read_csv(\"data.csv\", index_col=\"Name\")\n",
    "print(df)"
   ]
  },
  {
   "cell_type": "code",
   "execution_count": 25,
   "id": "dfdead4d",
   "metadata": {},
   "outputs": [
    {
     "name": "stdout",
     "output_type": "stream",
     "text": [
      "No                 25\n",
      "Type1        Electric\n",
      "Type2             NaN\n",
      "Height            0.4\n",
      "Weight            6.0\n",
      "Legendary           0\n",
      "Name: Pikachu, dtype: object\n"
     ]
    }
   ],
   "source": [
    "print(df.loc[\"Pikachu\"])"
   ]
  },
  {
   "cell_type": "code",
   "execution_count": null,
   "id": "94fbe2bb",
   "metadata": {},
   "outputs": [
    {
     "name": "stdout",
     "output_type": "stream",
     "text": [
      "Height     1.7\n",
      "Weight    90.5\n",
      "Name: Charizard, dtype: object\n"
     ]
    }
   ],
   "source": [
    "print(df.loc[\"Charizard\", [\"Height\", \"Weight\"]])  # second argument for the columns we only like to display"
   ]
  },
  {
   "cell_type": "code",
   "execution_count": null,
   "id": "01472c77",
   "metadata": {},
   "outputs": [
    {
     "name": "stdout",
     "output_type": "stream",
     "text": [
      "            Height  Weight\n",
      "Name                      \n",
      "Charizard      1.7    90.5\n",
      "Squirtle       0.5     9.0\n",
      "Wartortle      1.0    22.5\n",
      "Blastoise      1.6    85.5\n",
      "Caterpie       0.3     2.9\n",
      "Metapod        0.7     9.9\n",
      "Butterfree     1.1    32.0\n",
      "Weedle         0.3     3.2\n",
      "Kakuna         0.6    10.0\n",
      "Beedrill       1.0    29.5\n",
      "Pidgey         0.3     1.8\n",
      "Pidgeotto      1.1    30.0\n",
      "Pidgeot        1.5    39.5\n",
      "Rattata        0.3     3.5\n",
      "Raticate       0.7    18.5\n",
      "Spearow        0.3     2.0\n",
      "Fearow         1.2    38.0\n",
      "Ekans          2.0     6.9\n",
      "Arbok          3.5    65.0\n",
      "Pikachu        0.4     6.0\n"
     ]
    }
   ],
   "source": [
    "print(df.loc[\"Charizard\":\"Pikachu\", [\"Height\", \"Weight\"]]) # slice command to select range"
   ]
  },
  {
   "cell_type": "code",
   "execution_count": 30,
   "id": "7ffed8d1",
   "metadata": {},
   "outputs": [
    {
     "name": "stdout",
     "output_type": "stream",
     "text": [
      "            No  Type1   Type2  Height  Weight  Legendary\n",
      "Name                                                    \n",
      "Bulbasaur    1  Grass  Poison     0.7     6.9          0\n",
      "Venusaur     3  Grass  Poison     2.0   100.0          0\n",
      "Charmeleon   5   Fire     NaN     1.1    19.0          0\n",
      "Squirtle     7  Water     NaN     0.5     9.0          0\n",
      "Blastoise    9  Water     NaN     1.6    85.5          0\n",
      "Metapod     11    Bug     NaN     0.7     9.9          0\n"
     ]
    }
   ],
   "source": [
    "# integer based \n",
    "print(df.iloc[0:11:2])"
   ]
  },
  {
   "cell_type": "code",
   "execution_count": 32,
   "id": "97c25a9e",
   "metadata": {},
   "outputs": [
    {
     "name": "stdout",
     "output_type": "stream",
     "text": [
      "            No  Type1   Type2\n",
      "Name                         \n",
      "Bulbasaur    1  Grass  Poison\n",
      "Venusaur     3  Grass  Poison\n",
      "Charmeleon   5   Fire     NaN\n",
      "Squirtle     7  Water     NaN\n",
      "Blastoise    9  Water     NaN\n",
      "Metapod     11    Bug     NaN\n"
     ]
    }
   ],
   "source": [
    "print(df.iloc[0:11:2, 0:3])"
   ]
  },
  {
   "cell_type": "code",
   "execution_count": 33,
   "id": "8aaee9f5",
   "metadata": {},
   "outputs": [
    {
     "name": "stdout",
     "output_type": "stream",
     "text": [
      "No                 25\n",
      "Type1        Electric\n",
      "Type2             NaN\n",
      "Height            0.4\n",
      "Weight            6.0\n",
      "Legendary           0\n",
      "Name: Pikachu, dtype: object\n"
     ]
    }
   ],
   "source": [
    "pokemon = input(\"Enter a Pokemon name:\")\n",
    "\n",
    "try: \n",
    "    print(df.loc[pokemon])\n",
    "except KeyError:\n",
    "    print(f\"{pokemon} not found\")\n"
   ]
  },
  {
   "cell_type": "code",
   "execution_count": 34,
   "id": "f85e0d9b",
   "metadata": {},
   "outputs": [
    {
     "name": "stdout",
     "output_type": "stream",
     "text": [
      "             No    Type1    Type2  Height  Weight  Legendary\n",
      "Name                                                        \n",
      "Venusaur      3    Grass   Poison     2.0   100.0          0\n",
      "Ekans        23   Poison      NaN     2.0     6.9          0\n",
      "Arbok        24   Poison      NaN     3.5    65.0          0\n",
      "Onix         95     Rock   Ground     8.8   210.0          0\n",
      "Exeggutor   103    Grass  Psychic     2.0   120.0          0\n",
      "Kangaskhan  115   Normal      NaN     2.2    80.0          0\n",
      "Gyarados    130    Water   Flying     6.5   235.0          0\n",
      "Lapras      131    Water      Ice     2.5   220.0          0\n",
      "Snorlax     143   Normal      NaN     2.1   460.0          0\n",
      "Moltres     146     Fire   Flying     2.0    60.0          1\n",
      "Dragonair   148   Dragon      NaN     4.0    16.5          0\n",
      "Dragonite   149   Dragon   Flying     2.2   210.0          0\n",
      "Mewtwo      150  Psychic      NaN     2.0   122.0          1\n"
     ]
    }
   ],
   "source": [
    "#Filtering Using pandas\n",
    "#Keeping the rows that match a condition\n",
    "\n",
    "tall_pokemon = df[df[\"Height\"] >= 2]\n",
    "\n",
    "print(tall_pokemon)\n"
   ]
  },
  {
   "cell_type": "code",
   "execution_count": 36,
   "id": "94aca9df",
   "metadata": {},
   "outputs": [
    {
     "name": "stdout",
     "output_type": "stream",
     "text": [
      "          No   Type1   Type2  Height  Weight  Legendary\n",
      "Name                                                   \n",
      "Golem     76    Rock  Ground     1.4   300.0          0\n",
      "Snorlax  143  Normal     NaN     2.1   460.0          0\n"
     ]
    }
   ],
   "source": [
    "heavy_pokemon = df[df[\"Weight\"] >= 250]\n",
    "print(heavy_pokemon)"
   ]
  },
  {
   "cell_type": "markdown",
   "id": "ebb42deb",
   "metadata": {},
   "source": [
    "Aggregate functions = Reduces a set of values into single summary value\n",
    "                        Used to summarize and analyze data\n",
    "                        Often used with the groupby() function"
   ]
  },
  {
   "cell_type": "code",
   "execution_count": 37,
   "id": "60cd21c0",
   "metadata": {},
   "outputs": [
    {
     "name": "stdout",
     "output_type": "stream",
     "text": [
      "No           75.500000\n",
      "Height        1.200000\n",
      "Weight       46.231333\n",
      "Legendary     0.026667\n",
      "dtype: float64\n"
     ]
    }
   ],
   "source": [
    "print(df.mean(numeric_only = True))"
   ]
  },
  {
   "cell_type": "code",
   "execution_count": 38,
   "id": "f1f691c9",
   "metadata": {},
   "outputs": [
    {
     "name": "stdout",
     "output_type": "stream",
     "text": [
      "No           11325.0\n",
      "Height         180.0\n",
      "Weight        6934.7\n",
      "Legendary        4.0\n",
      "dtype: float64\n"
     ]
    }
   ],
   "source": [
    "print(df.sum(numeric_only = True))"
   ]
  },
  {
   "cell_type": "code",
   "execution_count": 39,
   "id": "397b15fa",
   "metadata": {},
   "outputs": [
    {
     "name": "stdout",
     "output_type": "stream",
     "text": [
      "1.2\n"
     ]
    }
   ],
   "source": [
    "print(df[\"Height\"].mean())"
   ]
  },
  {
   "cell_type": "code",
   "execution_count": null,
   "id": "576d6aed",
   "metadata": {},
   "outputs": [
    {
     "name": "stdout",
     "output_type": "stream",
     "text": [
      "Type1\n",
      "Bug         0.900000\n",
      "Dragon      2.666667\n",
      "Electric    0.855556\n",
      "Fairy       0.950000\n",
      "Fighting    1.185714\n",
      "Fire        1.216667\n",
      "Ghost       1.466667\n",
      "Grass       1.083333\n",
      "Ground      0.850000\n",
      "Ice         1.550000\n",
      "Normal      0.986364\n",
      "Poison      1.221429\n",
      "Psychic     1.371429\n",
      "Rock        1.844444\n",
      "Water       1.300000\n",
      "Name: Height, dtype: float64\n"
     ]
    }
   ],
   "source": [
    "group = df.groupby(\"Type1\")  # grouping by ...\n",
    "print(group[\"Height\"].mean())"
   ]
  },
  {
   "cell_type": "code",
   "execution_count": 42,
   "id": "5870274b",
   "metadata": {},
   "outputs": [
    {
     "name": "stdout",
     "output_type": "stream",
     "text": [
      "Type1\n",
      "Bug         10.8\n",
      "Dragon       8.0\n",
      "Electric     7.7\n",
      "Fairy        1.9\n",
      "Fighting     8.3\n",
      "Fire        14.6\n",
      "Ghost        4.4\n",
      "Grass       13.0\n",
      "Ground       6.8\n",
      "Ice          3.1\n",
      "Normal      21.7\n",
      "Poison      17.1\n",
      "Psychic      9.6\n",
      "Rock        16.6\n",
      "Water       36.4\n",
      "Name: Height, dtype: float64\n"
     ]
    }
   ],
   "source": [
    "print(group[\"Height\"].sum())"
   ]
  },
  {
   "cell_type": "code",
   "execution_count": 48,
   "id": "a03f2412",
   "metadata": {},
   "outputs": [],
   "source": [
    "#Data Cleaning\n",
    "\n",
    "df = df.drop(columns=\"Legendary\")\n"
   ]
  },
  {
   "cell_type": "code",
   "execution_count": 50,
   "id": "7129b09d",
   "metadata": {},
   "outputs": [
    {
     "name": "stdout",
     "output_type": "stream",
     "text": [
      "      No        Name    Type1   Type2  Height  Weight\n",
      "0      1   Bulbasaur    Grass  Poison     0.7     6.9\n",
      "1      2     Ivysaur    Grass  Poison     1.0    13.0\n",
      "2      3    Venusaur    Grass  Poison     2.0   100.0\n",
      "3      4  Charmander     Fire     NaN     0.6     8.5\n",
      "4      5  Charmeleon     Fire     NaN     1.1    19.0\n",
      "..   ...         ...      ...     ...     ...     ...\n",
      "145  146     Moltres     Fire  Flying     2.0    60.0\n",
      "146  147     Dratini   Dragon     NaN     1.8     3.3\n",
      "147  148   Dragonair   Dragon     NaN     4.0    16.5\n",
      "148  149   Dragonite   Dragon  Flying     2.2   210.0\n",
      "149  150      Mewtwo  Psychic     NaN     2.0   122.0\n",
      "\n",
      "[150 rows x 6 columns]\n"
     ]
    }
   ],
   "source": [
    "print(df)"
   ]
  },
  {
   "cell_type": "code",
   "execution_count": 51,
   "id": "a25d0aa3",
   "metadata": {},
   "outputs": [],
   "source": [
    "#Handle Missing data\n",
    "df = df.dropna(subset=[\"Type2\"]) # Drop not available"
   ]
  },
  {
   "cell_type": "code",
   "execution_count": 52,
   "id": "52a25708",
   "metadata": {},
   "outputs": [
    {
     "name": "stdout",
     "output_type": "stream",
     "text": [
      "      No        Name     Type1     Type2  Height  Weight\n",
      "0      1   Bulbasaur     Grass    Poison     0.7     6.9\n",
      "1      2     Ivysaur     Grass    Poison     1.0    13.0\n",
      "2      3    Venusaur     Grass    Poison     2.0   100.0\n",
      "5      6   Charizard      Fire    Flying     1.7    90.5\n",
      "11    12  Butterfree       Bug    Flying     1.1    32.0\n",
      "12    13      Weedle       Bug    Poison     0.3     3.2\n",
      "13    14      Kakuna       Bug    Poison     0.6    10.0\n",
      "14    15    Beedrill       Bug    Poison     1.0    29.5\n",
      "15    16      Pidgey    Normal    Flying     0.3     1.8\n",
      "16    17   Pidgeotto    Normal    Flying     1.1    30.0\n",
      "17    18     Pidgeot    Normal    Flying     1.5    39.5\n",
      "20    21     Spearow    Normal    Flying     0.3     2.0\n",
      "21    22      Fearow    Normal    Flying     1.2    38.0\n",
      "30    31   Nidoqueen    Poison    Ground     1.3    60.0\n",
      "33    34    Nidoking    Poison    Ground     1.4    62.0\n",
      "38    39  Jigglypuff    Normal     Fairy     0.5     5.5\n",
      "39    40  Wigglytuff    Normal     Fairy     1.0    12.0\n",
      "40    41       Zubat    Poison    Flying     0.8     7.5\n",
      "41    42      Golbat    Poison    Flying     1.6    55.0\n",
      "42    43      Oddish     Grass    Poison     0.5     5.4\n",
      "43    44       Gloom     Grass    Poison     0.8     8.6\n",
      "44    45   Vileplume     Grass    Poison     1.2    18.6\n",
      "45    46       Paras       Bug     Grass     0.3     5.4\n",
      "46    47    Parasect       Bug     Grass     1.0    29.5\n",
      "47    48     Venonat       Bug    Poison     1.0    30.0\n",
      "48    49    Venomoth       Bug    Poison     1.5    12.5\n",
      "61    62   Poliwrath     Water  Fighting     1.3    54.0\n",
      "68    69  Bellsprout     Grass    Poison     0.7     4.0\n",
      "69    70  Weepinbell     Grass    Poison     1.0     6.4\n",
      "70    71  Victreebel     Grass    Poison     1.7    15.5\n",
      "71    72   Tentacool     Water    Poison     0.9    45.5\n",
      "72    73  Tentacruel     Water    Poison     1.6    55.0\n",
      "73    74     Geodude      Rock    Ground     0.4    20.0\n",
      "74    75    Graveler      Rock    Ground     1.0   105.0\n",
      "75    76       Golem      Rock    Ground     1.4   300.0\n",
      "78    79    Slowpoke     Water   Psychic     1.2    36.0\n",
      "79    80     Slowbro     Water   Psychic     1.6    78.5\n",
      "80    81   Magnemite  Electric     Steel     0.3     6.0\n",
      "81    82    Magneton  Electric     Steel     1.0    60.0\n",
      "82    83  Farfetch'd    Normal    Flying     0.8    15.0\n",
      "83    84       Doduo    Normal    Flying     1.4    39.2\n",
      "84    85      Dodrio    Normal    Flying     1.8    85.2\n",
      "86    87     Dewgong     Water       Ice     1.7   120.0\n",
      "90    91    Cloyster     Water       Ice     1.5   132.5\n",
      "91    92      Gastly     Ghost    Poison     1.3     0.1\n",
      "92    93     Haunter     Ghost    Poison     1.6     0.1\n",
      "93    94      Gengar     Ghost    Poison     1.5    40.5\n",
      "94    95        Onix      Rock    Ground     8.8   210.0\n",
      "101  102   Exeggcute     Grass   Psychic     0.4     2.5\n",
      "102  103   Exeggutor     Grass   Psychic     2.0   120.0\n",
      "110  111     Rhyhorn    Ground      Rock     1.0   115.0\n",
      "111  112      Rhydon    Ground      Rock     1.9   120.0\n",
      "120  121     Starmie     Water   Psychic     1.1    80.0\n",
      "121  122    Mr. Mime   Psychic     Fairy     1.3    54.5\n",
      "122  123     Scyther       Bug    Flying     1.5    56.0\n",
      "123  124        Jynx       Ice   Psychic     1.4    40.6\n",
      "129  130    Gyarados     Water    Flying     6.5   235.0\n",
      "130  131      Lapras     Water       Ice     2.5   220.0\n",
      "137  138     Omanyte      Rock     Water     0.4     7.5\n",
      "138  139     Omastar      Rock     Water     1.0    35.0\n",
      "139  140      Kabuto      Rock     Water     0.5    11.5\n",
      "140  141    Kabutops      Rock     Water     1.3    40.5\n",
      "141  142  Aerodactyl      Rock    Flying     1.8    59.0\n",
      "143  144    Articuno       Ice    Flying     1.7    55.4\n",
      "144  145      Zapdos  Electric    Flying     1.6    52.6\n",
      "145  146     Moltres      Fire    Flying     2.0    60.0\n",
      "148  149   Dragonite    Dragon    Flying     2.2   210.0\n"
     ]
    }
   ],
   "source": [
    "print(df.to_string())"
   ]
  },
  {
   "cell_type": "code",
   "execution_count": 54,
   "id": "60dd8c49",
   "metadata": {},
   "outputs": [
    {
     "name": "stdout",
     "output_type": "stream",
     "text": [
      "      No        Name    Type1   Type2  Height  Weight  Legendary\n",
      "0      1   Bulbasaur    Grass  Poison     0.7     6.9          0\n",
      "1      2     Ivysaur    Grass  Poison     1.0    13.0          0\n",
      "2      3    Venusaur    Grass  Poison     2.0   100.0          0\n",
      "3      4  Charmander     Fire    None     0.6     8.5          0\n",
      "4      5  Charmeleon     Fire    None     1.1    19.0          0\n",
      "..   ...         ...      ...     ...     ...     ...        ...\n",
      "145  146     Moltres     Fire  Flying     2.0    60.0          1\n",
      "146  147     Dratini   Dragon    None     1.8     3.3          0\n",
      "147  148   Dragonair   Dragon    None     4.0    16.5          0\n",
      "148  149   Dragonite   Dragon  Flying     2.2   210.0          0\n",
      "149  150      Mewtwo  Psychic    None     2.0   122.0          1\n",
      "\n",
      "[150 rows x 7 columns]\n"
     ]
    }
   ],
   "source": [
    "df = df.fillna({\"Type2\": \"None\"})\n",
    "print(df)"
   ]
  },
  {
   "cell_type": "code",
   "execution_count": 57,
   "id": "809de48e",
   "metadata": {},
   "outputs": [
    {
     "name": "stdout",
     "output_type": "stream",
     "text": [
      "      No        Name    Type1   Type2  Height  Weight  Legendary\n",
      "0      1   Bulbasaur    GRASS  Poison     0.7     6.9          0\n",
      "1      2     Ivysaur    GRASS  Poison     1.0    13.0          0\n",
      "2      3    Venusaur    GRASS  Poison     2.0   100.0          0\n",
      "3      4  Charmander     FIRE    None     0.6     8.5          0\n",
      "4      5  Charmeleon     FIRE    None     1.1    19.0          0\n",
      "..   ...         ...      ...     ...     ...     ...        ...\n",
      "145  146     Moltres     FIRE  Flying     2.0    60.0          1\n",
      "146  147     Dratini   Dragon    None     1.8     3.3          0\n",
      "147  148   Dragonair   Dragon    None     4.0    16.5          0\n",
      "148  149   Dragonite   Dragon  Flying     2.2   210.0          0\n",
      "149  150      Mewtwo  Psychic    None     2.0   122.0          1\n",
      "\n",
      "[150 rows x 7 columns]\n"
     ]
    }
   ],
   "source": [
    "#Fix inconsistent values\n",
    "df[\"Type1\"] = df[\"Type1\"].replace({\"Grass\": \"GRASS\",\n",
    "                                    \"Fire\": \"FIRE\",\n",
    "                                    \"Water\": \"WATER\"})\n",
    "print(df)"
   ]
  },
  {
   "cell_type": "code",
   "execution_count": 58,
   "id": "fa4c864f",
   "metadata": {},
   "outputs": [
    {
     "name": "stdout",
     "output_type": "stream",
     "text": [
      "      No        Name    Type1   Type2  Height  Weight  Legendary\n",
      "0      1   bulbasaur    GRASS  Poison     0.7     6.9          0\n",
      "1      2     ivysaur    GRASS  Poison     1.0    13.0          0\n",
      "2      3    venusaur    GRASS  Poison     2.0   100.0          0\n",
      "3      4  charmander     FIRE    None     0.6     8.5          0\n",
      "4      5  charmeleon     FIRE    None     1.1    19.0          0\n",
      "..   ...         ...      ...     ...     ...     ...        ...\n",
      "145  146     moltres     FIRE  Flying     2.0    60.0          1\n",
      "146  147     dratini   Dragon    None     1.8     3.3          0\n",
      "147  148   dragonair   Dragon    None     4.0    16.5          0\n",
      "148  149   dragonite   Dragon  Flying     2.2   210.0          0\n",
      "149  150      mewtwo  Psychic    None     2.0   122.0          1\n",
      "\n",
      "[150 rows x 7 columns]\n"
     ]
    }
   ],
   "source": [
    "#Standardize test\n",
    "df[\"Name\"] = df[\"Name\"].str.lower()\n",
    "print(df)"
   ]
  },
  {
   "cell_type": "code",
   "execution_count": 59,
   "id": "357ec462",
   "metadata": {},
   "outputs": [
    {
     "name": "stdout",
     "output_type": "stream",
     "text": [
      "      No        Name    Type1   Type2  Height  Weight  Legendary\n",
      "0      1   bulbasaur    GRASS  Poison     0.7     6.9      False\n",
      "1      2     ivysaur    GRASS  Poison     1.0    13.0      False\n",
      "2      3    venusaur    GRASS  Poison     2.0   100.0      False\n",
      "3      4  charmander     FIRE    None     0.6     8.5      False\n",
      "4      5  charmeleon     FIRE    None     1.1    19.0      False\n",
      "..   ...         ...      ...     ...     ...     ...        ...\n",
      "145  146     moltres     FIRE  Flying     2.0    60.0       True\n",
      "146  147     dratini   Dragon    None     1.8     3.3      False\n",
      "147  148   dragonair   Dragon    None     4.0    16.5      False\n",
      "148  149   dragonite   Dragon  Flying     2.2   210.0      False\n",
      "149  150      mewtwo  Psychic    None     2.0   122.0       True\n",
      "\n",
      "[150 rows x 7 columns]\n"
     ]
    }
   ],
   "source": [
    "#Fix data types\n",
    "df[\"Legendary\"] = df[\"Legendary\"].astype(bool)\n",
    "print(df)"
   ]
  },
  {
   "cell_type": "code",
   "execution_count": 61,
   "id": "1eb64d9d",
   "metadata": {},
   "outputs": [
    {
     "name": "stdout",
     "output_type": "stream",
     "text": [
      "      No        Name    Type1   Type2  Height  Weight  Legendary\n",
      "0      1   bulbasaur    GRASS  Poison     0.7     6.9      False\n",
      "1      2     ivysaur    GRASS  Poison     1.0    13.0      False\n",
      "2      3    venusaur    GRASS  Poison     2.0   100.0      False\n",
      "3      4  charmander     FIRE    None     0.6     8.5      False\n",
      "4      5  charmeleon     FIRE    None     1.1    19.0      False\n",
      "..   ...         ...      ...     ...     ...     ...        ...\n",
      "145  146     moltres     FIRE  Flying     2.0    60.0       True\n",
      "146  147     dratini   Dragon    None     1.8     3.3      False\n",
      "147  148   dragonair   Dragon    None     4.0    16.5      False\n",
      "148  149   dragonite   Dragon  Flying     2.2   210.0      False\n",
      "149  150      mewtwo  Psychic    None     2.0   122.0       True\n",
      "\n",
      "[150 rows x 7 columns]\n"
     ]
    }
   ],
   "source": [
    "# Remove duplicate values\n",
    "df = df.drop_duplicates()\n",
    "print(df)"
   ]
  },
  {
   "cell_type": "code",
   "execution_count": null,
   "id": "19310a94",
   "metadata": {},
   "outputs": [],
   "source": []
  }
 ],
 "metadata": {
  "kernelspec": {
   "display_name": ".venv",
   "language": "python",
   "name": "python3"
  },
  "language_info": {
   "codemirror_mode": {
    "name": "ipython",
    "version": 3
   },
   "file_extension": ".py",
   "mimetype": "text/x-python",
   "name": "python",
   "nbconvert_exporter": "python",
   "pygments_lexer": "ipython3",
   "version": "3.12.1"
  }
 },
 "nbformat": 4,
 "nbformat_minor": 5
}
